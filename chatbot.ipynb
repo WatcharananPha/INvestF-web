{
 "cells": [
  {
   "cell_type": "code",
   "execution_count": null,
   "id": "7be57348",
   "metadata": {},
   "outputs": [],
   "source": []
  },
  {
   "cell_type": "code",
   "execution_count": null,
   "id": "55c69284",
   "metadata": {},
   "outputs": [],
   "source": []
  }
 ],
 "metadata": {
  "language_info": {
   "name": "python"
  }
 },
 "nbformat": 4,
 "nbformat_minor": 5
}
